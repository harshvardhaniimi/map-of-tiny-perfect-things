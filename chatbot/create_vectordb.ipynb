{
 "cells": [
  {
   "cell_type": "markdown",
   "metadata": {},
   "source": [
    "## OpenAI Keys"
   ]
  },
  {
   "cell_type": "code",
   "execution_count": 1,
   "metadata": {},
   "outputs": [],
   "source": [
    "import os\n",
    "# read API key from text file\n",
    "def read_api_key(file):\n",
    "    with open(file, \"r\") as f:\n",
    "        return f.read().strip()\n",
    "    \n",
    "os.environ[\"OPENAI_API_KEY\"] = read_api_key(\"openai_key.txt\")"
   ]
  },
  {
   "cell_type": "markdown",
   "metadata": {},
   "source": [
    "## Set up directory loader"
   ]
  },
  {
   "cell_type": "code",
   "execution_count": 2,
   "metadata": {},
   "outputs": [],
   "source": [
    "from langchain.document_loaders import DirectoryLoader\n",
    "from langchain.document_loaders.csv_loader import CSVLoader\n",
    "\n",
    "# directory = '/Users/harshvardhan/Library/CloudStorage/Dropbox/Misc/Map of Tiny Perfect Things/map-of-tiny-perfect-things/master_data/city_files'\n",
    "directory = '/Users/harshvardhan/Library/CloudStorage/Dropbox/Misc/Map of Tiny Perfect Things/map-of-tiny-perfect-things/master_data/master_data.csv'"
   ]
  },
  {
   "cell_type": "code",
   "execution_count": 3,
   "metadata": {},
   "outputs": [
    {
     "data": {
      "text/plain": [
       "217"
      ]
     },
     "execution_count": 3,
     "metadata": {},
     "output_type": "execute_result"
    }
   ],
   "source": [
    "def load_docs(directory, csv=False):\n",
    "  if csv:\n",
    "    loader = CSVLoader(directory)\n",
    "    documents = loader.load()\n",
    "    return documents\n",
    "  else:\n",
    "    loader = DirectoryLoader(directory)\n",
    "    documents = loader.load()\n",
    "    return documents\n",
    "\n",
    "documents = load_docs(directory, csv=True)\n",
    "len(documents)"
   ]
  },
  {
   "cell_type": "markdown",
   "metadata": {},
   "source": [
    "## Split docs"
   ]
  },
  {
   "cell_type": "code",
   "execution_count": 5,
   "metadata": {},
   "outputs": [
    {
     "data": {
      "text/plain": [
       "464"
      ]
     },
     "execution_count": 5,
     "metadata": {},
     "output_type": "execute_result"
    }
   ],
   "source": [
    "from langchain.text_splitter import RecursiveCharacterTextSplitter\n",
    "\n",
    "def split_docs(documents,chunk_size=500,chunk_overlap=10):\n",
    "  text_splitter = RecursiveCharacterTextSplitter(chunk_size=chunk_size, chunk_overlap=chunk_overlap)\n",
    "  docs = text_splitter.split_documents(documents)\n",
    "  return docs\n",
    "\n",
    "docs = split_docs(documents)\n",
    "len(docs)"
   ]
  },
  {
   "cell_type": "code",
   "execution_count": 6,
   "metadata": {},
   "outputs": [
    {
     "data": {
      "text/plain": [
       "'google_maps_link: https://www.google.com/maps/search/?api=1&query=1797%20Shattuck%20Ave.%20Ste%20A,%20Berkeley,%20CA%2094709,%20United%20States&query_place_id=ChIJc4U-eZ9-hYAR5ih4d-bZpBI\\nlat: 37.8751742\\nlng: -122.2684613\\nopening_hours: Monday: 9:00\\u202fAM\\u2009–\\u200911:00\\u202fPM\\n Tuesday: 9:00\\u202fAM\\u2009–\\u200911:00\\u202fPM\\n Wednesday: 9:00\\u202fAM\\u2009–\\u200911:00\\u202fPM\\n Thursday: 9:00\\u202fAM\\u2009–\\u200911:00\\u202fPM\\n Friday: 9:00\\u202fAM\\u2009–\\u200911:00\\u202fPM\\n Saturday: 10:00\\u202fAM\\u2009–\\u200911:00\\u202fPM\\n Sunday: 10:00\\u202fAM\\u2009–\\u200910:00\\u202fPM\\ntype: cafe\\ngoogle_place_id: ChIJc4U-eZ9-hYAR5ih4d-bZpBI'"
      ]
     },
     "execution_count": 6,
     "metadata": {},
     "output_type": "execute_result"
    }
   ],
   "source": [
    "docs[3].page_content"
   ]
  },
  {
   "cell_type": "markdown",
   "metadata": {},
   "source": [
    "Generally, one chunk has about place's details. Therefore, when making the query for similarity search, we will use several similar docs. Not just one."
   ]
  },
  {
   "cell_type": "markdown",
   "metadata": {},
   "source": [
    "## Counting number of tokens\n",
    "GPT-3.5 supports 4096 tokens generally."
   ]
  },
  {
   "cell_type": "code",
   "execution_count": 7,
   "metadata": {},
   "outputs": [],
   "source": [
    "# https://github.com/openai/openai-cookbook/blob/main/examples/How_to_count_tokens_with_tiktoken.ipynb\n",
    "import tiktoken"
   ]
  },
  {
   "cell_type": "code",
   "execution_count": 8,
   "metadata": {},
   "outputs": [
    {
     "data": {
      "text/plain": [
       "272"
      ]
     },
     "execution_count": 8,
     "metadata": {},
     "output_type": "execute_result"
    }
   ],
   "source": [
    "encoding = tiktoken.get_encoding(\"cl100k_base\")\n",
    "len(encoding.encode(docs[3].page_content))"
   ]
  },
  {
   "cell_type": "code",
   "execution_count": 9,
   "metadata": {},
   "outputs": [],
   "source": [
    "## function to get number of tokens in a string\n",
    "def get_num_tokens(string):\n",
    "    return len(encoding.encode(string))"
   ]
  },
  {
   "cell_type": "markdown",
   "metadata": {},
   "source": [
    "## Creating and saving embeddings"
   ]
  },
  {
   "cell_type": "code",
   "execution_count": 10,
   "metadata": {},
   "outputs": [],
   "source": [
    "from langchain.embeddings.openai import OpenAIEmbeddings\n",
    "from langchain.vectorstores import Chroma"
   ]
  },
  {
   "cell_type": "code",
   "execution_count": 11,
   "metadata": {},
   "outputs": [
    {
     "name": "stderr",
     "output_type": "stream",
     "text": [
      "Using embedded DuckDB with persistence: data will be stored in: vectorstore\n"
     ]
    }
   ],
   "source": [
    "persist_directory = \"vectorstore\"\n",
    "embeddings = OpenAIEmbeddings()\n",
    "vectorstore = Chroma.from_documents(documents, embeddings, persist_directory=persist_directory)\n",
    "vectorstore.persist()"
   ]
  },
  {
   "cell_type": "markdown",
   "metadata": {},
   "source": [
    "## Number of Similar Documents"
   ]
  },
  {
   "cell_type": "code",
   "execution_count": 12,
   "metadata": {},
   "outputs": [],
   "source": [
    "def get_similiar_docs(query, k=1, score=False):\n",
    "  if score:\n",
    "    similar_docs = vectorstore.similarity_search_with_score(query,k=k)\n",
    "  else:\n",
    "    similar_docs = vectorstore.similarity_search(query,k=k)\n",
    "  return similar_docs"
   ]
  },
  {
   "cell_type": "code",
   "execution_count": 13,
   "metadata": {},
   "outputs": [
    {
     "data": {
      "text/plain": [
       "[Document(page_content='name: Coffee and Chocolate\\nlocation: Knoxville, TN\\ncity: Knoxville\\nstate: Tennessee\\ncountry: United States of America\\ncreators_rec: NA\\nnotes: Known for heavenly chocolate cookies and the rare perk of being open until 10 pm, this cafe is a must-visit.\\naddress: 327 Union Ave, Knoxville, TN 37902, United States\\nrating: 4.7\\nuser_ratings_total: 456\\ngoogle_maps_link: https://www.google.com/maps/search/?api=1&query=327%20Union%20Ave,%20Knoxville,%20TN%2037902,%20United%20States&query_place_id=ChIJ71tZUcQXXIgRlNXT-k3IwC0\\nlat: 35.9649171\\nlng: -83.9189009\\nopening_hours: Monday: 7:00\\u202fAM\\u2009–\\u200910:00\\u202fPM\\n Tuesday: 7:00\\u202fAM\\u2009–\\u200910:00\\u202fPM\\n Wednesday: 7:00\\u202fAM\\u2009–\\u200910:00\\u202fPM\\n Thursday: 7:00\\u202fAM\\u2009–\\u200910:00\\u202fPM\\n Friday: 7:00\\u202fAM\\u2009–\\u200910:00\\u202fPM\\n Saturday: 7:00\\u202fAM\\u2009–\\u200910:00\\u202fPM\\n Sunday: 7:00\\u202fAM\\u2009–\\u200910:00\\u202fPM\\ntype: cafe\\ngoogle_place_id: ChIJ71tZUcQXXIgRlNXT-k3IwC0', metadata={'source': '/Users/harshvardhan/Library/CloudStorage/Dropbox/Misc/Map of Tiny Perfect Things/map-of-tiny-perfect-things/master_data/master_data.csv', 'row': 161})]"
      ]
     },
     "execution_count": 13,
     "metadata": {},
     "output_type": "execute_result"
    }
   ],
   "source": [
    "query = \"Best coffee places in Knoxville\"\n",
    "similar_docs = get_similiar_docs(query)\n",
    "similar_docs"
   ]
  },
  {
   "cell_type": "code",
   "execution_count": 14,
   "metadata": {},
   "outputs": [
    {
     "data": {
      "text/plain": [
       "4134"
      ]
     },
     "execution_count": 14,
     "metadata": {},
     "output_type": "execute_result"
    }
   ],
   "source": [
    "get_num_tokens(similar_docs[0].page_content)"
   ]
  },
  {
   "cell_type": "code",
   "execution_count": null,
   "metadata": {},
   "outputs": [],
   "source": []
  }
 ],
 "metadata": {
  "kernelspec": {
   "display_name": "env_may23",
   "language": "python",
   "name": "python3"
  },
  "language_info": {
   "codemirror_mode": {
    "name": "ipython",
    "version": 3
   },
   "file_extension": ".py",
   "mimetype": "text/x-python",
   "name": "python",
   "nbconvert_exporter": "python",
   "pygments_lexer": "ipython3",
   "version": "3.11.3"
  },
  "orig_nbformat": 4
 },
 "nbformat": 4,
 "nbformat_minor": 2
}
